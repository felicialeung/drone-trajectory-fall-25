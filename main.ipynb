{
 "cells": [
  {
   "cell_type": "markdown",
   "id": "fcdcb3d0-62af-41df-9fad-fcb84f5af016",
   "metadata": {},
   "source": [
    "# Drone Trajectory Planner\n",
    "\n",
    "In this project, we will develop the drone trajectory planner. This notebook serves as the main file for the project, where we will refer to the instructions and demonstrate our code.\n",
    "\n",
    "Please follow week by week instructions, which includes writing the code in the `src/` folder."
   ]
  },
  {
   "cell_type": "code",
   "execution_count": 1,
   "id": "83a63ad4-c249-484a-99e2-d9724aa5d41e",
   "metadata": {},
   "outputs": [],
   "source": [
    "# Import all the files and libraries required for the project\n",
    "%load_ext autoreload\n",
    "%autoreload 2\n",
    "import copy\n",
    "    \n",
    "import numpy as np\n",
    "\n",
    "from src.camera_utils import compute_image_footprint_on_surface, compute_ground_sampling_distance, project_world_point_to_image\n",
    "from src.data_model import Camera, DatasetSpec\n",
    "from src.plan_computation import compute_distance_between_images, compute_speed_during_photo_capture, generate_photo_plan_on_grid\n",
    "from src.visualization import plot_photo_plan\n",
    "\n",
    "import plotly.io as pio\n",
    "pio.renderers.default = 'iframe'"
   ]
  },
  {
   "cell_type": "markdown",
   "id": "44eb7f16-9094-4bc8-8ce7-065991ea0b78",
   "metadata": {},
   "source": [
    "# Week 1: Introduction\n",
    "\n",
    "No code contribution expected this week"
   ]
  },
  {
   "cell_type": "markdown",
   "id": "731edd83",
   "metadata": {},
   "source": [
    "# Week 2: Implement data models for dataset specification and camera\n",
    "\n",
    "For this week, we will model the dataset specification.\n",
    "\n",
    "- Overlap: the ratio (in 0 to 1) of scene shared between two consecutive images.\n",
    "- Sidelap: the ratio (in 0 to 1) of scene shared between two images in adjacent rows.\n",
    "- Height: the height of the scan above the ground (in meters).\n",
    "- Scan_dimension_x: the horizontal size of the rectangle to be scanned (in meters).\n",
    "- Scan_dimension_y: the vertical size of the rectangle to be scanned (in meters).\n",
    "- exposure_time_ms: the exposure time for each image (in milliseconds).\n",
    "\n",
    "\n",
    "$\\color{red}{\\text{TODO: }}$ Implement `DatasetSpec` in `src/data_model.py`\n"
   ]
  },
  {
   "cell_type": "code",
   "execution_count": 2,
   "id": "ea66a874",
   "metadata": {},
   "outputs": [
    {
     "name": "stdout",
     "output_type": "stream",
     "text": [
      "Nominal specs: DatasetSpec(overlap=0.7, sidelap=0.7, height=30.48, scan_dimension_x=150, scan_dimension_y=150, exposure_time_ms=2)\n"
     ]
    }
   ],
   "source": [
    "# Model the nomimal dataset spec\n",
    "\n",
    "overlap = 0.7\n",
    "sidelap = 0.7\n",
    "height = 30.48 # 100 ft\n",
    "scan_dimension_x = 150\n",
    "scan_dimension_y = 150\n",
    "exposure_time_ms = 2 # 1/500 exposure time\n",
    "\n",
    "dataset_spec = DatasetSpec(overlap, sidelap, height, scan_dimension_x, scan_dimension_y, exposure_time_ms)\n",
    "\n",
    "print(f\"Nominal specs: {dataset_spec}\")"
   ]
  },
  {
   "cell_type": "markdown",
   "id": "c65c8b8f-6f33-4cd4-8c3a-74acbdbd2c7d",
   "metadata": {},
   "source": [
    "## Model the camera parameters\n",
    "\n",
    "We want to model the following camera parameters in Python:\n",
    "- focal length along x axis (in pixels)\n",
    "- focal length along y axis (in pixels)\n",
    "- optical center of the image along the x axis (in pixels)\n",
    "- optical center of the image along the y axis (in pixels)\n",
    "- Size of the sensor along the x axis (in mm)\n",
    "- Size of the sensor along the y axis (in mm)\n",
    "- Number of pixels in the image along the x axis\n",
    "- Number of pixels in the image along the y axis\n",
    "\n",
    "I recommend to use `dataclasses` ([Python documentation](https://docs.python.org/3/library/dataclasses.html), [Blog](https://www.dataquest.io/blog/how-to-use-python-data-classes/) to model these parameters.\n",
    "\n",
    "$\\color{red}{\\text{TODO: }}$ Implement `Camera` in `src/data_model.py`"
   ]
  },
  {
   "cell_type": "code",
   "execution_count": 3,
   "id": "51f75a3f-b1b1-4087-b9ea-6d5b245ab0fc",
   "metadata": {},
   "outputs": [],
   "source": [
    "# Define the parameters for Skydio VT300L - Wide camera\n",
    "# Ref: https://support.skydio.com/hc/en-us/articles/20866347470491-Skydio-X10-camera-and-metadata-overview\n",
    "fx = 4938.56\n",
    "fy = 4936.49\n",
    "cx = 4095.5\n",
    "cy = 3071.5\n",
    "sensor_size_x_mm = 13.107 # single pixel size * number of pixels in X dimension\n",
    "sensor_size_y_mm = 9.830 # single pixel size * number of pixels in Y dimension\n",
    "image_size_x = 8192\n",
    "image_size_y = 6144\n",
    "\n",
    "camera_x10 = Camera(fx, fy, cx, cy, sensor_size_x_mm, sensor_size_y_mm, image_size_x, image_size_y)"
   ]
  },
  {
   "cell_type": "code",
   "execution_count": 4,
   "id": "4d5afb2f-e900-42fd-b5f4-e7ce0f170b5e",
   "metadata": {},
   "outputs": [
    {
     "name": "stdout",
     "output_type": "stream",
     "text": [
      "X10 camera model: Camera(fx=4938.56, fy=4936.49, cx=4095.5, cy=3071.5, sensor_size_x_mm=13.107, sensor_size_y_mm=9.83, image_size_x_px=8192, image_size_y_px=6144)\n"
     ]
    }
   ],
   "source": [
    "print(f\"X10 camera model: {camera_x10}\")"
   ]
  },
  {
   "cell_type": "markdown",
   "id": "757018ac",
   "metadata": {},
   "source": [
    "# Week 3: Camera Operations\n",
    "\n",
    "We plan to write utility functions to\n",
    "- project a 3D world point to an image\n",
    "- Compute image footprint on a surface\n",
    "- Compute the Ground Sampling Distance"
   ]
  },
  {
   "cell_type": "markdown",
   "id": "1f1db4d3-824e-49b9-af3a-dbeb3323625a",
   "metadata": {},
   "source": [
    "## Project 3D world points into the image\n",
    "\n",
    "\n",
    "![Camera Projection](assets/image_projection.png)\n",
    "Reference: [Robert Collins CSE483](https://www.cse.psu.edu/~rtc12/CSE486/lecture12.pdf)\n",
    "\n",
    "\n",
    "Equations to implement:\n",
    "$$ x = f_x \\frac{X}{Z} $$\n",
    "$$ y = f_y \\frac{Y}{Z} $$\n",
    "$$ u = x + c_x $$\n",
    "$$ v = y + c_y $$\n",
    "\n",
    "$\\color{red}{\\text{TODO: }}$ Implement function `project_world_point_to_image` in `src/camera_utils.py`"
   ]
  },
  {
   "cell_type": "code",
   "execution_count": 5,
   "id": "4a3bd4c0-188b-4f95-98c9-95bb351e2d59",
   "metadata": {},
   "outputs": [
    {
     "name": "stdout",
     "output_type": "stream",
     "text": [
      "[ 25. -30.  50.] projected to [6564.7803   109.60571]\n"
     ]
    }
   ],
   "source": [
    "point_3d = np.array([25, -30, 50], dtype=np.float32)\n",
    "expected_uv = np.array([6564.80, 109.60], dtype=np.float32)\n",
    "uv = project_world_point_to_image(camera_x10, point_3d)\n",
    "\n",
    "print(f\"{point_3d} projected to {uv}\")\n",
    "\n",
    "assert np.allclose(uv, expected_uv, atol=1e-2)"
   ]
  },
  {
   "cell_type": "markdown",
   "id": "cf58acce-ca40-492d-9281-791c05c92776",
   "metadata": {},
   "source": [
    "## Compute Image Footprint on the surface\n",
    "\n",
    "We have written code to *project* a 3D point into the image. The reverse operation is reprojection, where we take $(x, y)$ and compute the $(X, Y)$ for a given value of $Z$. Note that while going from 3D to 2D, the depth becomes ambiguous so we need the to specify the $Z$.\n",
    "\n",
    "An image's footprint is the area on the surface which is captured by the image. We can take the two corners of the image and reproject them at a given distance to obtain the width and length of the image.\n",
    "\n",
    "$\\color{red}{\\text{TODO: }}$ Implement function `compute_image_footprint_on_surface` in `src/camera_utils.py`"
   ]
  },
  {
   "cell_type": "code",
   "execution_count": 6,
   "id": "9d3e87ae-2123-4362-bf6e-279e6afb360c",
   "metadata": {},
   "outputs": [
    {
     "name": "stdout",
     "output_type": "stream",
     "text": [
      "Footprint at 100m = [165.87831 124.4609 ]\n"
     ]
    }
   ],
   "source": [
    "footprint_at_100m = compute_image_footprint_on_surface(camera_x10, 100)\n",
    "expected_footprint_at_100m = np.array([165.88, 124.46], dtype=np.float32)\n",
    "\n",
    "print(f\"Footprint at 100m = {footprint_at_100m}\")\n",
    "\n",
    "assert np.allclose(footprint_at_100m, expected_footprint_at_100m, atol=1e-2)\n"
   ]
  },
  {
   "cell_type": "code",
   "execution_count": 7,
   "id": "bf7af93f-e95b-40e2-b607-39020015381b",
   "metadata": {},
   "outputs": [
    {
     "name": "stdout",
     "output_type": "stream",
     "text": [
      "Footprint at 200m = [331.75662 248.9218 ]\n"
     ]
    }
   ],
   "source": [
    "footprint_at_200m = compute_image_footprint_on_surface(camera_x10, 200)\n",
    "expected_footprint_at_200m = expected_footprint_at_100m * 2\n",
    "\n",
    "print(f\"Footprint at 200m = {footprint_at_200m}\")\n",
    "\n",
    "assert np.allclose(footprint_at_200m, expected_footprint_at_200m, atol=1e-2)"
   ]
  },
  {
   "cell_type": "markdown",
   "id": "84486ad6-a4c5-4e5a-ba40-ad125ced7d3d",
   "metadata": {},
   "source": [
    "## Ground Sampling Distance\n",
    "\n",
    "Ground sampling distance is the length of the ground (in m) captured by a single pixel. We have the image footpring (the dimensions of ground captured by the whole sensor, and the number of pixels along the horizontal and vertical dimension. Can we get GSD from these two quantities?\n",
    "\n",
    "Note: Please return just one value of the GSD. Take the mininum of the values along the two axes."
   ]
  },
  {
   "cell_type": "code",
   "execution_count": 8,
   "id": "f21aa3d1-08be-4bce-8554-ec834ad000bf",
   "metadata": {},
   "outputs": [
    {
     "name": "stdout",
     "output_type": "stream",
     "text": [
      "GSD at 100m: 0.020248817279934883\n"
     ]
    }
   ],
   "source": [
    "gsd_at_100m = compute_ground_sampling_distance(camera_x10, 100)\n",
    "expected_gsd_at_100m = 0.0202\n",
    "\n",
    "print(f\"GSD at 100m: {gsd_at_100m}\")\n",
    "\n",
    "assert np.allclose(gsd_at_100m, expected_gsd_at_100m, atol=1e-4)"
   ]
  },
  {
   "cell_type": "markdown",
   "id": "47477599-e78b-46d4-9cac-725bcbb5e6eb",
   "metadata": {},
   "source": [
    "## Bonus: Reprojection from 2D to 3D\n",
    "\n",
    "If we have a 2d pixel location of a point along with the camera model, can we go back to 3D?\n",
    "Do we need any additional information.\n",
    "\n",
    "\n",
    "$\\color{red}{\\text{TODO: }}$ Implement function `reproject_image_point_to_world` in `src/camera_utils.py` and demonstrate it by running it in the notebook. Confirm that your reprojection + projection function are by projecting a 3d point to image, and reprojecting it back to 3D."
   ]
  },
  {
   "cell_type": "markdown",
   "id": "135a5201-bcbc-4e57-9201-31d3dbb50005",
   "metadata": {},
   "source": [
    "# Week 4: Compute Distance Between Photos\n",
    "\n",
    "The overlap and sidelap are the ratio of the dimensions shared between two photos. We already know the footprint of a single image at a given distance. Can we convert the ratio into actual distances? And how does the distance on the surface relate to distance travelled by the camera?\n",
    "\n",
    "$\\color{red}{\\text{TODO: }}$ Implement `compute_distance_between_images` in `src/plan_computation.py`\n",
    "\n"
   ]
  },
  {
   "cell_type": "code",
   "execution_count": 9,
   "id": "70b32a91-2577-46ec-bb07-9a0a5fd01243",
   "metadata": {},
   "outputs": [
    {
     "name": "stdout",
     "output_type": "stream",
     "text": [
      "Computed distance for X10 camera with nominal dataset specs: [15.167914 11.380706]\n"
     ]
    }
   ],
   "source": [
    "computed_distances = compute_distance_between_images(camera_x10, dataset_spec)\n",
    "expected_distances = np.array([15.17, 11.38], dtype=np.float32)\n",
    "\n",
    "print(f\"Computed distance for X10 camera with nominal dataset specs: {computed_distances}\")\n",
    "\n",
    "assert np.allclose(computed_distances, expected_distances, atol=1e-2)"
   ]
  },
  {
   "cell_type": "markdown",
   "id": "5474e7ac-28bb-4ab3-ad8d-cb5398d5696b",
   "metadata": {},
   "source": [
    "$\\color{red}{\\text{TODO: }}$ define >=2 more specifications/camera parameters and check the computed distances. Does that align with your expections\n"
   ]
  },
  {
   "cell_type": "code",
   "execution_count": 10,
   "id": "f7f9334a-6ee1-4aa4-8770-d0f48b36f18b",
   "metadata": {},
   "outputs": [
    {
     "name": "stdout",
     "output_type": "stream",
     "text": [
      "Computed distance: [15.167914 11.380706]\n"
     ]
    }
   ],
   "source": [
    "camera_ = copy.copy(camera_x10)\n",
    "dataset_spec_ = copy.copy(dataset_spec)\n",
    "\n",
    "computed_distances_ = compute_distance_between_images(camera_, dataset_spec_)\n",
    "print(f\"Computed distance: {computed_distances_}\")"
   ]
  },
  {
   "cell_type": "code",
   "execution_count": 11,
   "id": "0328cb60-081b-4fb7-9075-62768332769f",
   "metadata": {},
   "outputs": [
    {
     "name": "stdout",
     "output_type": "stream",
     "text": [
      "Experiment A — focal length *1.5\n",
      "New fx, fy: 7407.84 7404.735\n",
      "Computed distances (x, y): [10.111942   7.5871367]\n"
     ]
    }
   ],
   "source": [
    "# Experiment A: increase focal length by 50%\n",
    "camera_A = copy.copy(camera_x10)\n",
    "\n",
    "camera_A.fx = camera_A.fx * 1.5\n",
    "camera_A.fy = camera_A.fy * 1.5\n",
    "\n",
    "dataset_A = copy.copy(dataset_spec)\n",
    "\n",
    "computed_distances_A = compute_distance_between_images(camera_A, dataset_A)\n",
    "\n",
    "print(\"Experiment A — focal length *1.5\")\n",
    "print(\"New fx, fy:\", camera_A.fx, camera_A.fy)\n",
    "print(\"Computed distances (x, y):\", computed_distances_A)"
   ]
  },
  {
   "cell_type": "markdown",
   "id": "eae29d02-b988-4462-a81e-25c70d926293",
   "metadata": {},
   "source": [
    "Experiment A — increased focal length by 50%:\n",
    "Increasing the camera’s focal length narrows the field of view, causing the footprint on the ground to shrink.\n",
    "As expected, the computed distances between image centers decreased, meaning flight lines would need to be closer to maintain the same overlap.\n",
    "This results in more images required to cover the same area, but each image has higher ground detail (better GSD)."
   ]
  },
  {
   "cell_type": "code",
   "execution_count": 12,
   "id": "7a125233-b656-4a41-8a01-4595d6b75a22",
   "metadata": {},
   "outputs": [
    {
     "name": "stdout",
     "output_type": "stream",
     "text": [
      "Experiment B — height *2.0\n",
      "New height: 60.96\n",
      "Computed distances (x, y): [30.335829 22.761412]\n"
     ]
    }
   ],
   "source": [
    "# Experiment B: double flight height\n",
    "camera_B = copy.copy(camera_x10)\n",
    "dataset_B = copy.copy(dataset_spec)\n",
    "dataset_B.height = dataset_B.height * 2.0\n",
    "\n",
    "computed_distances_B = compute_distance_between_images(camera_B, dataset_B)\n",
    "\n",
    "print(\"Experiment B — height *2.0\")\n",
    "print(\"New height:\", dataset_B.height)\n",
    "print(\"Computed distances (x, y):\", computed_distances_B)"
   ]
  },
  {
   "cell_type": "markdown",
   "id": "40ddf6a9-b71a-46cb-815a-fcb1e05658b3",
   "metadata": {},
   "source": [
    "Experiment B — doubled flight height:\n",
    "Doubling the flight height increases the ground footprint proportionally, so the distances between image centers roughly doubled.\n",
    "This allows for fewer flight lines to cover the same area, speeding up surveys, but causes reduced ground resolution and potentially greater atmospheric or geometric distortions."
   ]
  },
  {
   "cell_type": "markdown",
   "id": "cea6d39a-89af-42bc-bb63-2d22380dec1f",
   "metadata": {},
   "source": [
    "## Bonus: Non-Nadir photos\n",
    "\n",
    "We have solved for the distance assuming that the camera is facing straight down to the ground. This is called [Nadir scanning](https://support.esri.com/en-us/gis-dictionary/nadir). However, in practise we might want a custom gimbal angle.\n",
    "\n",
    "Your bonus task is to make the distance computation general. Introduce a double `camera_angle` parameter (which is the angle from the X-axis) in the dataset specification, and work out how to adapt your computation. Feel free to reach out to Ayush to discuss ideas and assumptions!\n",
    "\n",
    "![Non Nadir Footprint](assets/non_nadir_gimbal_angle.png)"
   ]
  },
  {
   "cell_type": "markdown",
   "id": "8dfc13a5-d13d-4930-a47b-2851e5458ceb",
   "metadata": {},
   "source": [
    "# Week 5: Compute Maximum Speed For Blur Free Photos\n",
    "\n",
    "To restrict motion blur due to camera movement to tolerable limits, we need to restrict the speed such that the image contents move less than 1px away. \n",
    "\n",
    "How much does 1px of movement translate to movement of the scene on the ground? It is the ground sampling distance!\n",
    "From previous week, we know that this is the maximum movement the camera can have. \n",
    "We have the distance now. To get speed we need to divide it with time. Do we have time already in our data models?\n",
    "\n",
    "$\\color{red}{\\text{TODO: }}$ Implement `compute_speed_during_photo_capture` in `src/plan_computation.py`."
   ]
  },
  {
   "cell_type": "code",
   "execution_count": 13,
   "id": "1292957c-d66f-4ac9-bb6f-1dc783d1a5aa",
   "metadata": {},
   "outputs": [
    {
     "name": "stdout",
     "output_type": "stream",
     "text": [
      "Computed speed during photo captures: 3.09\n"
     ]
    }
   ],
   "source": [
    "computed_speed = compute_speed_during_photo_capture(camera_x10, dataset_spec, allowed_movement_px=1)\n",
    "expected_speed = 3.09\n",
    "\n",
    "print(f\"Computed speed during photo captures: {computed_speed:.2f}\")\n",
    "\n",
    "assert np.allclose(computed_speed, expected_speed, atol=1e-2)"
   ]
  },
  {
   "cell_type": "markdown",
   "id": "b7fe63d9-c416-4bbf-b0ce-8c678de681de",
   "metadata": {},
   "source": [
    "$\\color{red}{\\text{TODO: }}$ define >= 2more specifications/camera parameters and check the computed distances. Does that align with your expectations\n"
   ]
  },
  {
   "cell_type": "code",
   "execution_count": 14,
   "id": "85212946-83d0-475c-9740-e04d10a1ec32",
   "metadata": {},
   "outputs": [
    {
     "name": "stdout",
     "output_type": "stream",
     "text": [
      "Computed distance: 3.09\n"
     ]
    }
   ],
   "source": [
    "camera_ = copy.copy(camera_x10)\n",
    "dataset_spec_ = copy.copy(dataset_spec)\n",
    "\n",
    "computed_speed_ = compute_speed_during_photo_capture(camera_, dataset_spec_)\n",
    "print(f\"Computed distance: {computed_speed_:.2f}\")"
   ]
  },
  {
   "cell_type": "code",
   "execution_count": 15,
   "id": "37b344e3-6a84-4402-9634-2268be94b3d1",
   "metadata": {},
   "outputs": [
    {
     "name": "stdout",
     "output_type": "stream",
     "text": [
      "Experiment A — focal length *1.5\n",
      "New fx, fy: 7407.84 7404.735\n",
      "Computed speed: 2.06 m/s\n",
      "\n"
     ]
    }
   ],
   "source": [
    "# Experiment A: increase focal length by 50%\n",
    "camera_A = copy.copy(camera_x10)\n",
    "camera_A.fx = camera_A.fx * 1.5\n",
    "camera_A.fy = camera_A.fy * 1.5\n",
    "\n",
    "dataset_A = copy.copy(dataset_spec)\n",
    "\n",
    "computed_speed_A = compute_speed_during_photo_capture(camera_A, dataset_A)\n",
    "print(\"Experiment A — focal length *1.5\")\n",
    "print(\"New fx, fy:\", camera_A.fx, camera_A.fy)\n",
    "print(f\"Computed speed: {computed_speed_A:.2f} m/s\\n\")"
   ]
  },
  {
   "cell_type": "markdown",
   "id": "cd762a75-6d5b-4758-9552-5fdaa17a0f33",
   "metadata": {},
   "source": [
    "Experiment A — Increasing the focal length reduces the field of view, leading to a smaller ground footprint and finer GSD. Because each pixel now covers a smaller area on the ground, the allowable motion for 1px blur decreases. As expected, the computed blur-free speed decreases, meaning the drone must move slower to maintain sharp images."
   ]
  },
  {
   "cell_type": "code",
   "execution_count": 16,
   "id": "c00e9b2b-e21f-4226-936c-c8865604e9d9",
   "metadata": {},
   "outputs": [
    {
     "name": "stdout",
     "output_type": "stream",
     "text": [
      "Experiment B — height *2.0\n",
      "New height: 60.96\n",
      "Computed speed: 6.17 m/s\n",
      "\n"
     ]
    }
   ],
   "source": [
    "# Experiment B: double flight height\n",
    "camera_B = copy.copy(camera_x10)\n",
    "dataset_B = copy.copy(dataset_spec)\n",
    "dataset_B.height = dataset_B.height * 2.0\n",
    "\n",
    "computed_speed_B = compute_speed_during_photo_capture(camera_B, dataset_B)\n",
    "print(\"Experiment B — height *2.0\")\n",
    "print(\"New height:\", dataset_B.height)\n",
    "print(f\"Computed speed: {computed_speed_B:.2f} m/s\\n\")"
   ]
  },
  {
   "cell_type": "markdown",
   "id": "05a76e35-a4e9-49b6-9688-5b531237606d",
   "metadata": {},
   "source": [
    "Experiment B — doubled flight height: Increasing the flight height increases the ground footprint and GSD, meaning each pixel covers more area. This allows for greater camera movement (in meters) before exceeding the 1px blur threshold. As expected, the computed allowable speed roughly doubles — the drone can move faster while still keeping images sharp."
   ]
  },
  {
   "cell_type": "markdown",
   "id": "26d7075d-f520-43bd-8b8b-b36e9c6a6bc2",
   "metadata": {},
   "source": [
    "# Week 6: Generate Full Flight Plans  \n",
    "\n",
    "We now have all the tools to generate the full flight plan.\n",
    "\n",
    "Steps for this week:\n",
    "1. Define the `Waypoint` data model. What attributes should the data model have?\n",
    "   1. For Nadir scans, just the position of the camera is enough as we will always look drown to the ground.\n",
    "   2. For general case (bonus), we also need to define where the drone will look at.\n",
    "3. Implement the function `generate_photo_plan_on_grid` to generate the full plan.\n",
    "   1. Compute the maximum distance between two images, horizontally and vertically.\n",
    "   2. Layer the images such that we cover the whole scan area. Note that you need to take care when the scan dimension is not a multiple of distance between images. Example: to cover 45m length with 10m between images, we would need 4.5 images. Not possible. 4 images would not satisfy the overlap, so we should go with 5. How should we arrange 5 images in the given 45m.\n",
    "   3. Assign the speed to each waypoint.\n",
    "\n",
    "$\\color{red}{\\text{TODO: }}$ Implement:\n",
    "- `Waypoint` in `src/data_model.py`\n",
    "- `generate_photo_plan_on_grid` in `src/plan_computation.py`."
   ]
  },
  {
   "cell_type": "code",
   "execution_count": 17,
   "id": "7f1e5c3e-9974-4f50-9413-1b9c5b523051",
   "metadata": {},
   "outputs": [
    {
     "name": "stdout",
     "output_type": "stream",
     "text": [
      "Computed plan with 140 waypoints\n"
     ]
    }
   ],
   "source": [
    "computed_plan = generate_photo_plan_on_grid(camera_x10, dataset_spec) \n",
    "\n",
    "print(f\"Computed plan with {len(computed_plan)} waypoints\")"
   ]
  },
  {
   "cell_type": "code",
   "execution_count": 18,
   "id": "71f3bf15-c584-44da-a789-c821acb3f9a6",
   "metadata": {},
   "outputs": [
    {
     "name": "stdout",
     "output_type": "stream",
     "text": [
      "Idx 0: Waypoint(position=(np.float32(0.0), np.float32(0.0), 30.48), speed=3.085919888690114)\n",
      "Idx 1: Waypoint(position=(np.float32(15.167914), np.float32(0.0), 30.48), speed=3.085919888690114)\n",
      "Idx 2: Waypoint(position=(np.float32(30.335829), np.float32(0.0), 30.48), speed=3.085919888690114)\n",
      "Idx 3: Waypoint(position=(np.float32(45.503742), np.float32(0.0), 30.48), speed=3.085919888690114)\n",
      "Idx 4: Waypoint(position=(np.float32(60.671658), np.float32(0.0), 30.48), speed=3.085919888690114)\n",
      "Idx 5: Waypoint(position=(np.float32(75.83957), np.float32(0.0), 30.48), speed=3.085919888690114)\n",
      "Idx 6: Waypoint(position=(np.float32(91.007484), np.float32(0.0), 30.48), speed=3.085919888690114)\n",
      "Idx 7: Waypoint(position=(np.float32(106.1754), np.float32(0.0), 30.48), speed=3.085919888690114)\n",
      "Idx 8: Waypoint(position=(np.float32(121.343315), np.float32(0.0), 30.48), speed=3.085919888690114)\n",
      "Idx 9: Waypoint(position=(np.float32(136.51123), np.float32(0.0), 30.48), speed=3.085919888690114)\n",
      "Idx 10: Waypoint(position=(np.float32(136.51123), np.float32(11.380706), 30.48), speed=3.085919888690114)\n",
      "Idx 11: Waypoint(position=(np.float32(121.343315), np.float32(11.380706), 30.48), speed=3.085919888690114)\n",
      "Idx 12: Waypoint(position=(np.float32(106.1754), np.float32(11.380706), 30.48), speed=3.085919888690114)\n",
      "Idx 13: Waypoint(position=(np.float32(91.007484), np.float32(11.380706), 30.48), speed=3.085919888690114)\n",
      "Idx 14: Waypoint(position=(np.float32(75.83957), np.float32(11.380706), 30.48), speed=3.085919888690114)\n",
      "Idx 15: Waypoint(position=(np.float32(60.671658), np.float32(11.380706), 30.48), speed=3.085919888690114)\n",
      "Idx 16: Waypoint(position=(np.float32(45.503742), np.float32(11.380706), 30.48), speed=3.085919888690114)\n",
      "Idx 17: Waypoint(position=(np.float32(30.335829), np.float32(11.380706), 30.48), speed=3.085919888690114)\n",
      "Idx 18: Waypoint(position=(np.float32(15.167914), np.float32(11.380706), 30.48), speed=3.085919888690114)\n",
      "Idx 19: Waypoint(position=(np.float32(0.0), np.float32(11.380706), 30.48), speed=3.085919888690114)\n",
      "...\n"
     ]
    }
   ],
   "source": [
    "MAX_NUM_WAYPOINTS_TO_PRINT = 20\n",
    "\n",
    "for idx, waypoint in enumerate(computed_plan[:MAX_NUM_WAYPOINTS_TO_PRINT]):\n",
    "    print(f\"Idx {idx}: {waypoint}\")\n",
    "if len(computed_plan) >= MAX_NUM_WAYPOINTS_TO_PRINT:\n",
    "    print(\"...\")"
   ]
  },
  {
   "cell_type": "markdown",
   "id": "5544587f-fff7-406a-be65-ad99c7217e51",
   "metadata": {},
   "source": [
    "## Bonus: Time computation \n",
    "\n",
    "if you have some time, you can implement a time computation function. We can make the drone fly as fast as possible between photos, but make sure it can decelerate back to the required speed at the photos. Please use the following data: \n",
    "- Max drone speed: 16m/s.\n",
    "- Max acceleration: 3.5 m/s^2.\n",
    "\n",
    "Hint: you might need to use a trapezoidal/triangular speed profile"
   ]
  },
  {
   "cell_type": "markdown",
   "id": "1a326c0e-86ff-443d-98ee-7a4fae0bfe81",
   "metadata": {},
   "source": [
    "# Week 7: Visualize Flight Plans\n",
    "\n",
    "This week, we will use a third party plotting framework called [Plotly](https://plotly.com/python/) to visualize our plans. Please follow this [tutorial](https://www.kaggle.com/code/kanncaa1/plotly-tutorial-for-beginners) to gain some basic experience with Plotly, and then come up with your own visualization function. You are free to choose to come up with your own visualization, and use something other than Plotly.\n",
    "\n",
    "$\\color{red}{\\text{TODO: }}$ Implement `plot_photo_plan` in `src/visualization.py`"
   ]
  },
  {
   "cell_type": "code",
   "execution_count": 19,
   "id": "3996504a-28fc-48f1-8094-94d9a6bd58f9",
   "metadata": {},
   "outputs": [
    {
     "data": {
      "text/html": [
       "<iframe\n",
       "    scrolling=\"no\"\n",
       "    width=\"100%\"\n",
       "    height=\"545px\"\n",
       "    src=\"iframe_figures/figure_19.html\"\n",
       "    frameborder=\"0\"\n",
       "    allowfullscreen\n",
       "></iframe>\n"
      ]
     },
     "metadata": {},
     "output_type": "display_data"
    }
   ],
   "source": [
    "fig = plot_photo_plan(computed_plan)\n",
    "fig.show()"
   ]
  },
  {
   "cell_type": "markdown",
   "id": "74ff5833-f107-4332-974c-b9294e02a1da",
   "metadata": {},
   "source": [
    "$\\color{red}{\\text{TODO: }}$ Perform the following experiments (and any other you can think of) where we change just one parameter of the input camera/dataset specification and observe the change in the output plan. \n",
    "\n",
    "1. Change overlap and confirm it affects the consecutive images\n",
    "2. Change sidelap and confirm it does not affect the consecutive images\n",
    "3. Change the height of the scan and document the affect on scan plans\n",
    "4. Change exposure time\n",
    "\n",
    "Each experiment should specify: \n",
    "1. Input params you are changing\n",
    "2. Impact you observe\n",
    "3. explanation behind the change in output (intuition based or a text explanation is preffered over using equations)\n",
    "4. Practical implication of the correlation: how can I drone pilot use this result"
   ]
  },
  {
   "cell_type": "code",
   "execution_count": 20,
   "id": "7dbe090a-b696-4800-8373-6f4b3be02a87",
   "metadata": {},
   "outputs": [
    {
     "data": {
      "text/html": [
       "<iframe\n",
       "    scrolling=\"no\"\n",
       "    width=\"100%\"\n",
       "    height=\"545px\"\n",
       "    src=\"iframe_figures/figure_20.html\"\n",
       "    frameborder=\"0\"\n",
       "    allowfullscreen\n",
       "></iframe>\n"
      ]
     },
     "metadata": {},
     "output_type": "display_data"
    }
   ],
   "source": [
    "# Experiment 1: increase overlap\n",
    "import copy\n",
    "\n",
    "camera_ = copy.deepcopy(camera_x10)\n",
    "dataset_spec_ = copy.deepcopy(dataset_spec)\n",
    "\n",
    "dataset_spec_.overlap = 0.9\n",
    "\n",
    "fig = plot_photo_plan(generate_photo_plan_on_grid(camera_, dataset_spec_))\n",
    "fig.show()"
   ]
  },
  {
   "cell_type": "markdown",
   "id": "81a13768-1ec3-4d89-bc15-d995f668b0ec",
   "metadata": {},
   "source": [
    "Experiment 1 - increased overlap\n",
    "\n",
    "Input parameter changed: overlap (0.7 → 0.9)\n",
    "\n",
    "Impact observed: Waypoints are closer together horizontally (drone takes more photos per row).\n",
    "\n",
    "Explanation: Higher overlap means each photo must cover more of the previous one, so spacing decreases.\n",
    "\n",
    "Practical implication: Better map quality but more battery and storage used."
   ]
  },
  {
   "cell_type": "code",
   "execution_count": 21,
   "id": "7d5e1bc0-d555-4622-9317-8af465a61e5b",
   "metadata": {},
   "outputs": [
    {
     "data": {
      "text/html": [
       "<iframe\n",
       "    scrolling=\"no\"\n",
       "    width=\"100%\"\n",
       "    height=\"545px\"\n",
       "    src=\"iframe_figures/figure_21.html\"\n",
       "    frameborder=\"0\"\n",
       "    allowfullscreen\n",
       "></iframe>\n"
      ]
     },
     "metadata": {},
     "output_type": "display_data"
    }
   ],
   "source": [
    "# Experiment 2: change sidelap\n",
    "camera_ = copy.deepcopy(camera_x10)\n",
    "dataset_spec_ = copy.deepcopy(dataset_spec)\n",
    "\n",
    "dataset_spec_.sidelap = 0.8\n",
    "\n",
    "fig = plot_photo_plan(generate_photo_plan_on_grid(camera_, dataset_spec_))\n",
    "fig.show()"
   ]
  },
  {
   "cell_type": "markdown",
   "id": "e7487332-0398-4898-802f-6c71c9252be5",
   "metadata": {},
   "source": [
    "Experiment 2 – change sidelap\n",
    "\n",
    "Input parameter changed: sidelap (0.6 → 0.8)\n",
    "\n",
    "Impact observed: More rows are added to cover same area; left-right spacing unchanged.\n",
    "\n",
    "Explanation: Sidelap only affects spacing between flight rows, not along a row.\n",
    "\n",
    "Practical implication: Better vertical alignment for 3D reconstruction, but more flight time."
   ]
  },
  {
   "cell_type": "code",
   "execution_count": 22,
   "id": "6029eee3-0c8a-4d1b-8556-a1412b8a4e7f",
   "metadata": {},
   "outputs": [
    {
     "data": {
      "text/html": [
       "<iframe\n",
       "    scrolling=\"no\"\n",
       "    width=\"100%\"\n",
       "    height=\"545px\"\n",
       "    src=\"iframe_figures/figure_22.html\"\n",
       "    frameborder=\"0\"\n",
       "    allowfullscreen\n",
       "></iframe>\n"
      ]
     },
     "metadata": {},
     "output_type": "display_data"
    }
   ],
   "source": [
    "# Experiment 3: change scan height\n",
    "camera_ = copy.deepcopy(camera_x10)\n",
    "dataset_spec_ = copy.deepcopy(dataset_spec)\n",
    "\n",
    "dataset_spec_.height = 25\n",
    "\n",
    "fig = plot_photo_plan(generate_photo_plan_on_grid(camera_, dataset_spec_))\n",
    "fig.show()"
   ]
  },
  {
   "cell_type": "markdown",
   "id": "edba7952-4f4a-451a-8f1c-6045eff1691f",
   "metadata": {},
   "source": [
    "Experiment 3 - change scan height\n",
    "\n",
    "Input parameter changed: height (50m → 25m)\n",
    "\n",
    "Impact observed: More waypoints needed to cover the same area.\n",
    "\n",
    "Explanation: Lower altitude translates to smaller ground coverage per image, meaning more passes are needed.\n",
    "\n",
    "Practical implication: Higher detail datasets but more battery used and longer mission time."
   ]
  },
  {
   "cell_type": "code",
   "execution_count": 23,
   "id": "3f0e417f-2d0e-46d4-9fe3-a2e5819ec763",
   "metadata": {},
   "outputs": [
    {
     "data": {
      "text/html": [
       "<iframe\n",
       "    scrolling=\"no\"\n",
       "    width=\"100%\"\n",
       "    height=\"545px\"\n",
       "    src=\"iframe_figures/figure_23.html\"\n",
       "    frameborder=\"0\"\n",
       "    allowfullscreen\n",
       "></iframe>\n"
      ]
     },
     "metadata": {},
     "output_type": "display_data"
    }
   ],
   "source": [
    "# Experiment 4: change exposure time\n",
    "camera_ = copy.deepcopy(camera_x10)\n",
    "dataset_spec_ = copy.deepcopy(dataset_spec)\n",
    "\n",
    "dataset_spec_.exposure_time_ms = 1000\n",
    "\n",
    "fig = plot_photo_plan(generate_photo_plan_on_grid(camera_, dataset_spec_))\n",
    "fig.show()"
   ]
  },
  {
   "cell_type": "markdown",
   "id": "4abde235-4a25-4ca3-8fe8-c226fee91d4b",
   "metadata": {},
   "source": [
    "Experiment 4 – change exposure time\n",
    "\n",
    "Input parameter changed: exposure time (10ms → 1000ms)\n",
    "\n",
    "Impact observed: Drone slows down significantly.\n",
    "\n",
    "Explanation: Longer exposure means there is a risk of motion blur unless speed is reduced.\n",
    "\n",
    "Practical implication: In low light, drone must fly slower."
   ]
  },
  {
   "cell_type": "code",
   "execution_count": 24,
   "id": "090a79f3-397c-4d5e-98f4-6778c1b7075d",
   "metadata": {},
   "outputs": [
    {
     "data": {
      "text/html": [
       "<iframe\n",
       "    scrolling=\"no\"\n",
       "    width=\"100%\"\n",
       "    height=\"545px\"\n",
       "    src=\"iframe_figures/figure_24.html\"\n",
       "    frameborder=\"0\"\n",
       "    allowfullscreen\n",
       "></iframe>\n"
      ]
     },
     "metadata": {},
     "output_type": "display_data"
    }
   ],
   "source": [
    "# Experiment 5: change focal length\n",
    "camera_ = copy.deepcopy(camera_x10)\n",
    "dataset_spec_ = copy.deepcopy(dataset_spec)\n",
    "\n",
    "camera_.fx = camera_.fx * 1.5\n",
    "camera_.fy = camera_.fy * 1.5\n",
    "\n",
    "fig = plot_photo_plan(generate_photo_plan_on_grid(camera_, dataset_spec_))\n",
    "fig.show()\n"
   ]
  },
  {
   "cell_type": "markdown",
   "id": "ce550178-ddc2-4580-8d00-8ff1bc09f8de",
   "metadata": {},
   "source": [
    "Experiment 5 - change focal length\n",
    "Input parameter changed: camera.fx and camera.fy multiplied by 1.5 (50% longer focal length)\n",
    "\n",
    "Impact observed: waypoints become more dense, more images required.\n",
    "\n",
    "Explanation: Longer focal length narrows the camera’s field of view.\n",
    "\n",
    "Practical implication: Higher detail, but more flight time."
   ]
  }
 ],
 "metadata": {
  "kernelspec": {
   "display_name": "Python 3 (ipykernel)",
   "language": "python",
   "name": "python3"
  },
  "language_info": {
   "codemirror_mode": {
    "name": "ipython",
    "version": 3
   },
   "file_extension": ".py",
   "mimetype": "text/x-python",
   "name": "python",
   "nbconvert_exporter": "python",
   "pygments_lexer": "ipython3",
   "version": "3.12.0"
  }
 },
 "nbformat": 4,
 "nbformat_minor": 5
}
